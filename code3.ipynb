{
  "nbformat": 4,
  "nbformat_minor": 0,
  "metadata": {
    "colab": {
      "provenance": [],
      "authorship_tag": "ABX9TyNvpSbufYdh83C4+RHroAHB",
      "include_colab_link": true
    },
    "kernelspec": {
      "name": "python3",
      "display_name": "Python 3"
    },
    "language_info": {
      "name": "python"
    }
  },
  "cells": [
    {
      "cell_type": "markdown",
      "metadata": {
        "id": "view-in-github",
        "colab_type": "text"
      },
      "source": [
        "<a href=\"https://colab.research.google.com/github/ClaFlorez/travaux-avril-2024/blob/main/code3.ipynb\" target=\"_parent\"><img src=\"https://colab.research.google.com/assets/colab-badge.svg\" alt=\"Open In Colab\"/></a>"
      ]
    },
    {
      "cell_type": "code",
      "execution_count": 1,
      "metadata": {
        "id": "ZZz29fuNvdKb"
      },
      "outputs": [],
      "source": [
        "import tensorflow as tf\n",
        "import os\n",
        "import pandas as pd\n",
        "import numpy as np\n",
        "import matplotlib .pyplot as plt"
      ]
    },
    {
      "cell_type": "code",
      "source": [
        "from tensorflow import keras"
      ],
      "metadata": {
        "id": "VNFnC3b7xqGu"
      },
      "execution_count": 2,
      "outputs": []
    },
    {
      "cell_type": "code",
      "source": [
        "#configurer l'environement pour masquer les message de warning et d'erreurs\n",
        "os.environ['TF_CPP_MIN_LOG_LEVEL'] = '2'"
      ],
      "metadata": {
        "id": "xqMZ4zYqx0Ha"
      },
      "execution_count": 3,
      "outputs": []
    },
    {
      "cell_type": "code",
      "source": [
        "fashion_mnist_data = keras.datasets.mnist"
      ],
      "metadata": {
        "id": "wlsWpOW6yqaK"
      },
      "execution_count": 4,
      "outputs": []
    },
    {
      "cell_type": "code",
      "source": [
        "(x_train, y_train), (x_test, y_test) = fashion_mnist_data.load_data()"
      ],
      "metadata": {
        "colab": {
          "base_uri": "https://localhost:8080/"
        },
        "id": "M7oF552mzD6n",
        "outputId": "e7873569-a02a-4043-9f75-a08b6c86668c"
      },
      "execution_count": 6,
      "outputs": [
        {
          "output_type": "stream",
          "name": "stdout",
          "text": [
            "Downloading data from https://storage.googleapis.com/tensorflow/tf-keras-datasets/mnist.npz\n",
            "11490434/11490434 [==============================] - 0s 0us/step\n"
          ]
        }
      ]
    },
    {
      "cell_type": "markdown",
      "source": [
        "pour afficher les types de données"
      ],
      "metadata": {
        "id": "5Qb13SM61wKf"
      }
    },
    {
      "cell_type": "code",
      "source": [
        "print(type(x_train))"
      ],
      "metadata": {
        "colab": {
          "base_uri": "https://localhost:8080/"
        },
        "id": "MnvlG-kw1cek",
        "outputId": "7f902b60-4a21-4ff9-e43b-944d32918cf2"
      },
      "execution_count": 7,
      "outputs": [
        {
          "output_type": "stream",
          "name": "stdout",
          "text": [
            "<class 'numpy.ndarray'>\n"
          ]
        }
      ]
    },
    {
      "cell_type": "code",
      "source": [
        "print(x_train.dtype)"
      ],
      "metadata": {
        "colab": {
          "base_uri": "https://localhost:8080/"
        },
        "id": "pBA13Efm16NM",
        "outputId": "1ad0a57e-4af2-473b-973b-291367b583ca"
      },
      "execution_count": 8,
      "outputs": [
        {
          "output_type": "stream",
          "name": "stdout",
          "text": [
            "uint8\n"
          ]
        }
      ]
    },
    {
      "cell_type": "code",
      "source": [
        "print(f\"longueur de x train = {len(x_train)}, et la longueur de y train = {len(y_train)}\")"
      ],
      "metadata": {
        "colab": {
          "base_uri": "https://localhost:8080/"
        },
        "id": "xm02rRB72B1S",
        "outputId": "16bb4673-584e-4659-bcf2-705f7c93821f"
      },
      "execution_count": 12,
      "outputs": [
        {
          "output_type": "stream",
          "name": "stdout",
          "text": [
            "longueur de x train = 60000, et la longueur de y train = 60000\n"
          ]
        }
      ]
    },
    {
      "cell_type": "code",
      "source": [
        "print(f\"longueur de x train = {len(x_test)}, et la longueur de y train = {len(y_test)}\")"
      ],
      "metadata": {
        "colab": {
          "base_uri": "https://localhost:8080/"
        },
        "id": "oTXZggN52wbB",
        "outputId": "6f60e2de-a106-4e37-b40b-39a76bed9bf7"
      },
      "execution_count": 13,
      "outputs": [
        {
          "output_type": "stream",
          "name": "stdout",
          "text": [
            "longueur de x train = 10000, et la longueur de y train = 10000\n"
          ]
        }
      ]
    },
    {
      "cell_type": "code",
      "source": [
        "print(f\"le type de donnée de x train = {(x_train.dtype)}, et le type de donnée de y train = {(y_train.dtype)}\")"
      ],
      "metadata": {
        "colab": {
          "base_uri": "https://localhost:8080/"
        },
        "id": "2DcbTRkJ24hl",
        "outputId": "f45468d3-02b0-4ba6-e3f8-9901b25793a6"
      },
      "execution_count": 15,
      "outputs": [
        {
          "output_type": "stream",
          "name": "stdout",
          "text": [
            "le type de donnée de x train = uint8, et le type de donnée de y train = uint8\n"
          ]
        }
      ]
    },
    {
      "cell_type": "code",
      "source": [
        "print(f\"le type de donnée de x train = {(x_test.dtype)}, et le type de donnée de y train = {(y_test.dtype)}\")"
      ],
      "metadata": {
        "colab": {
          "base_uri": "https://localhost:8080/"
        },
        "id": "G03XnG2t3LRS",
        "outputId": "07251717-8d17-4124-c49d-5c285609cf59"
      },
      "execution_count": 18,
      "outputs": [
        {
          "output_type": "stream",
          "name": "stdout",
          "text": [
            "le type de donnée de x train = uint8, et le type de donnée de y train = uint8\n"
          ]
        }
      ]
    },
    {
      "cell_type": "code",
      "source": [
        "x_train = x_train.astype('float32')\n",
        "x_test = x_test.astype('float32')"
      ],
      "metadata": {
        "id": "GdZtHAza4_MT"
      },
      "execution_count": 24,
      "outputs": []
    },
    {
      "cell_type": "code",
      "source": [
        "print(f\"le type de donnée de x train = {(x_test.dtype)}, et le type de donnée de y train = {(y_test.dtype)}\")"
      ],
      "metadata": {
        "colab": {
          "base_uri": "https://localhost:8080/"
        },
        "id": "hAY0uifo5UVy",
        "outputId": "e3e0ebb6-b880-4818-d090-7090208355f2"
      },
      "execution_count": 25,
      "outputs": [
        {
          "output_type": "stream",
          "name": "stdout",
          "text": [
            "le type de donnée de x train = float32, et le type de donnée de y train = uint8\n"
          ]
        }
      ]
    },
    {
      "cell_type": "code",
      "source": [
        "x_train,x_validation = x_train[5000:]/ 255.0, x_train[:5000]/255.0"
      ],
      "metadata": {
        "id": "bAfJqFka7CTJ"
      },
      "execution_count": 26,
      "outputs": []
    },
    {
      "cell_type": "code",
      "source": [
        "print(f\"x_train_shape = {x_train.shape}\")\n",
        "#pour savoir la taille de la premiere image on fait la commande suivante:\n",
        "print(f\"x_train[0].shape = {x_train[0].shape}\")\n",
        "print(f\"x_train[0].shape (forme de l'image 1)= {x_train[0].shape}\")\n",
        "print(f\"x_train[0].dtype (type de donn/es de l'image 1)= {x_train[0].dtype}\")"
      ],
      "metadata": {
        "colab": {
          "base_uri": "https://localhost:8080/"
        },
        "id": "3ormtW-wDXxW",
        "outputId": "490686c4-7192-4f66-9dff-d697dc079265"
      },
      "execution_count": 28,
      "outputs": [
        {
          "output_type": "stream",
          "name": "stdout",
          "text": [
            "x_train_shape = (45000, 28, 28)\n",
            "x_train[0].shape = (28, 28)\n",
            "x_train[0].shape (forme de l'image 1)= (28, 28)\n",
            "x_train[0].dtype (type de donn/es de l'image 1)= float32\n"
          ]
        }
      ]
    },
    {
      "cell_type": "code",
      "source": [
        "#Noms de classes dans la dataser MNIST FASHION\n",
        "#chaqu'un c'est une classe dans l'exemple suivant on a 10 classs ou 10 neurones\n",
        "fashion_mnist_class_name =[\"T-shirt/top\",\"Pullover\",\"Trouser\",\"Dress\",\"Sandal\",\"Coat\",\"Shirt\",\"Sneaker\",\"Bag\",\"Ankle boot\"]"
      ],
      "metadata": {
        "id": "VTby3VkfHMYw"
      },
      "execution_count": 29,
      "outputs": []
    },
    {
      "cell_type": "code",
      "source": [
        "#une des facos de creer un modele sequentiel\n",
        "#from tensorflow.keras.models import Sequential"
      ],
      "metadata": {
        "id": "0r3VVhzEKM52"
      },
      "execution_count": 31,
      "outputs": []
    },
    {
      "cell_type": "code",
      "source": [
        "# Etape 1 creation du modele sequentiel\n",
        "model = keras.models.Sequential();\n"
      ],
      "metadata": {
        "id": "N6fA6DfFJQrU"
      },
      "execution_count": 38,
      "outputs": []
    },
    {
      "cell_type": "code",
      "source": [
        "#Etape 2 ajout de la couche d'aplanissement pour convertir les images 2D en un vector 1D\n",
        "model.add(keras.layers.Flatten(input_shape=[28,28]))\n",
        "#mieux importer toute la librairie\n",
        "#from tensorflow.keras.layers import Flatten\n"
      ],
      "metadata": {
        "id": "da1tKlPKOphG"
      },
      "execution_count": 42,
      "outputs": []
    },
    {
      "cell_type": "code",
      "source": [
        "#ajout d'un couche dense avec 300 neurones et une fontion d'activation ReLU fait d'un facon longue apres il y a une facon plus condensé\n",
        "model.add(keras.layers.Dense(300,activation=\"relu\"))"
      ],
      "metadata": {
        "id": "IAn8IHWySdJY"
      },
      "execution_count": 50,
      "outputs": []
    },
    {
      "cell_type": "code",
      "source": [
        "'''\n",
        "faire commentaire sur plusieurs lignes"
      ],
      "metadata": {
        "id": "mauahKJ0U4Ek"
      },
      "execution_count": null,
      "outputs": []
    },
    {
      "cell_type": "code",
      "source": [
        "#ajout d'un couche dense avec 150 neurones et une fontion d'activation ReLU fait d'un facon longue apres il y a une facon plus condensé\n",
        "model.add(keras.layers.Dense(150,activation=\"relu\"))"
      ],
      "metadata": {
        "id": "ZyrY3VwpVDO4"
      },
      "execution_count": 51,
      "outputs": []
    },
    {
      "cell_type": "code",
      "source": [
        "#ajouter la couche de sortie avec 10 neurones parce que j'ai écris 10 mont entre \" en haut et une funtionne D'activation softmax\n",
        "model.add(keras.layers.Dense(10,activation=\"softmax\"))"
      ],
      "metadata": {
        "id": "B08ouZB1VMdw"
      },
      "execution_count": 52,
      "outputs": []
    },
    {
      "cell_type": "code",
      "source": [
        "model.compile(optimizer=,loss=,metrics=\"accuracy\")"
      ],
      "metadata": {
        "id": "k-91UpYOVy5J"
      },
      "execution_count": null,
      "outputs": []
    }
  ]
}