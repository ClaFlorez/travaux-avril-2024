{
  "nbformat": 4,
  "nbformat_minor": 0,
  "metadata": {
    "colab": {
      "provenance": [],
      "authorship_tag": "ABX9TyMpK9Z44ovuzVSHyenHi/th",
      "include_colab_link": true
    },
    "kernelspec": {
      "name": "python3",
      "display_name": "Python 3"
    },
    "language_info": {
      "name": "python"
    }
  },
  "cells": [
    {
      "cell_type": "markdown",
      "metadata": {
        "id": "view-in-github",
        "colab_type": "text"
      },
      "source": [
        "<a href=\"https://colab.research.google.com/github/ClaFlorez/travaux-avril-2024/blob/main/demo_tenserflow1.ipynb\" target=\"_parent\"><img src=\"https://colab.research.google.com/assets/colab-badge.svg\" alt=\"Open In Colab\"/></a>"
      ]
    },
    {
      "cell_type": "markdown",
      "source": [
        "pour commencer un projet on doit toujours importer les librairies au debut du programme."
      ],
      "metadata": {
        "id": "ZL10rLsap8cZ"
      }
    },
    {
      "cell_type": "code",
      "execution_count": 49,
      "metadata": {
        "id": "4A-NatgCwwkn"
      },
      "outputs": [],
      "source": [
        "import tensorflow as tf"
      ]
    },
    {
      "cell_type": "code",
      "source": [
        "!pip list"
      ],
      "metadata": {
        "id": "OIDO5_KlxI4x"
      },
      "execution_count": null,
      "outputs": []
    },
    {
      "cell_type": "code",
      "source": [
        "import tensorflow as tf"
      ],
      "metadata": {
        "id": "IMSeIl8GyQHp"
      },
      "execution_count": 5,
      "outputs": []
    },
    {
      "cell_type": "code",
      "source": [
        "import os"
      ],
      "metadata": {
        "id": "1Dh361TJyYZf"
      },
      "execution_count": 6,
      "outputs": []
    },
    {
      "cell_type": "markdown",
      "source": [
        "## les ***constants***"
      ],
      "metadata": {
        "id": "5hKQovPMEz1Z"
      }
    },
    {
      "cell_type": "code",
      "source": [
        "os.environ['TF_CPP_MIN_LOG_LEVEL'] = '2'"
      ],
      "metadata": {
        "id": "eMP4Xe4hya90"
      },
      "execution_count": 7,
      "outputs": []
    },
    {
      "cell_type": "code",
      "source": [
        "a = tf.constant(10.)"
      ],
      "metadata": {
        "id": "mwVllEgazNDG"
      },
      "execution_count": 12,
      "outputs": []
    },
    {
      "cell_type": "code",
      "source": [
        "b = tf.constant(10.)"
      ],
      "metadata": {
        "id": "elG01kP_zWth"
      },
      "execution_count": 9,
      "outputs": []
    },
    {
      "cell_type": "code",
      "source": [
        "print(a + b)"
      ],
      "metadata": {
        "colab": {
          "base_uri": "https://localhost:8080/"
        },
        "id": "XIurKBZdzdsq",
        "outputId": "6b13c771-ad2b-4090-e265-1b1b0a1d5bbd"
      },
      "execution_count": 13,
      "outputs": [
        {
          "output_type": "stream",
          "name": "stdout",
          "text": [
            "tf.Tensor(20.0, shape=(), dtype=float32)\n"
          ]
        }
      ]
    },
    {
      "cell_type": "code",
      "source": [
        "print(\"a+b=\",a+b)"
      ],
      "metadata": {
        "colab": {
          "base_uri": "https://localhost:8080/"
        },
        "id": "O14EjZMX0xLS",
        "outputId": "0a9a1840-3f77-4b06-e610-0b0555f5eda2"
      },
      "execution_count": 18,
      "outputs": [
        {
          "output_type": "stream",
          "name": "stdout",
          "text": [
            "a+b= tf.Tensor(20.0, shape=(), dtype=float32)\n"
          ]
        }
      ]
    },
    {
      "cell_type": "code",
      "source": [
        "print(f\"a + b = {a+b}\")"
      ],
      "metadata": {
        "colab": {
          "base_uri": "https://localhost:8080/"
        },
        "id": "CQ1j6Fe23c-k",
        "outputId": "88bca7ff-2cd9-4a96-bab4-c17ea159ca55"
      },
      "execution_count": 19,
      "outputs": [
        {
          "output_type": "stream",
          "name": "stdout",
          "text": [
            "a + b = 20.0\n"
          ]
        }
      ]
    },
    {
      "cell_type": "code",
      "source": [
        "!python --version"
      ],
      "metadata": {
        "colab": {
          "base_uri": "https://localhost:8080/"
        },
        "id": "VdgF6cya3vvd",
        "outputId": "0cce1348-3290-4472-9cae-35c41533419c"
      },
      "execution_count": 22,
      "outputs": [
        {
          "output_type": "stream",
          "name": "stdout",
          "text": [
            "Python 3.10.12\n"
          ]
        }
      ]
    },
    {
      "cell_type": "markdown",
      "source": [],
      "metadata": {
        "id": "0JWoKf1o0w2t"
      }
    },
    {
      "cell_type": "code",
      "source": [
        "c = tf.constant(5.)"
      ],
      "metadata": {
        "id": "ABgEJ8v05f1k"
      },
      "execution_count": 29,
      "outputs": []
    },
    {
      "cell_type": "code",
      "source": [
        "d = tf.constant(3.)"
      ],
      "metadata": {
        "id": "lec5PxjP5kH7"
      },
      "execution_count": 25,
      "outputs": []
    },
    {
      "cell_type": "code",
      "source": [
        "print(f\"{c+d}\")"
      ],
      "metadata": {
        "colab": {
          "base_uri": "https://localhost:8080/"
        },
        "id": "Lk5wPOCz5qpj",
        "outputId": "c54c4264-84eb-434b-b44a-c6d4dedf27c0"
      },
      "execution_count": 30,
      "outputs": [
        {
          "output_type": "stream",
          "name": "stdout",
          "text": [
            "8.0\n"
          ]
        }
      ]
    },
    {
      "cell_type": "code",
      "source": [
        "e = tf.constant (10., dtype=\"float32\")"
      ],
      "metadata": {
        "id": "fJKzI4sI6jBD"
      },
      "execution_count": 39,
      "outputs": []
    },
    {
      "cell_type": "code",
      "source": [
        "print(\"Type de données de 'c'\",c.dtype)"
      ],
      "metadata": {
        "id": "Bz91Bwwa7kUw"
      },
      "execution_count": null,
      "outputs": []
    },
    {
      "cell_type": "code",
      "source": [
        "b= tf.constant(10.)"
      ],
      "metadata": {
        "id": "fQt88Adt9QCW"
      },
      "execution_count": 46,
      "outputs": []
    },
    {
      "cell_type": "code",
      "source": [
        "c = tf.constant(6.,dtype=\"float64\")"
      ],
      "metadata": {
        "id": "NRlbWHyxCUen"
      },
      "execution_count": 41,
      "outputs": []
    },
    {
      "cell_type": "code",
      "source": [
        "print(f\"b+c={b + tf.cast(c,tf.float32)}\")"
      ],
      "metadata": {
        "colab": {
          "base_uri": "https://localhost:8080/"
        },
        "id": "jG_dBtrU9D7k",
        "outputId": "4413b89a-abc6-4e75-e109-4219216491b2"
      },
      "execution_count": 47,
      "outputs": [
        {
          "output_type": "stream",
          "name": "stdout",
          "text": [
            "b+c=16.0\n"
          ]
        }
      ]
    },
    {
      "cell_type": "markdown",
      "source": [
        "## les *matrices* **texte en gras**"
      ],
      "metadata": {
        "id": "qTlAyINUE_bu"
      }
    },
    {
      "cell_type": "code",
      "source": [
        "tensor_3 = tf.zeros((3,3))"
      ],
      "metadata": {
        "id": "_EGWWcllFDtQ"
      },
      "execution_count": 50,
      "outputs": []
    },
    {
      "cell_type": "markdown",
      "source": [
        "\\n va a la ligne\n",
        "les matrices utilisées pour les images"
      ],
      "metadata": {
        "id": "L2wdhqVWHd2O"
      }
    },
    {
      "cell_type": "code",
      "source": [
        "print(f\"tensor_3= \\n {tensor_3}\")"
      ],
      "metadata": {
        "colab": {
          "base_uri": "https://localhost:8080/"
        },
        "id": "UJo3Bq_KFtQ2",
        "outputId": "af50fd64-92a8-45b6-a822-199d4c393e4c"
      },
      "execution_count": 51,
      "outputs": [
        {
          "output_type": "stream",
          "name": "stdout",
          "text": [
            "tensor_3= \n",
            " [[0. 0. 0.]\n",
            " [0. 0. 0.]\n",
            " [0. 0. 0.]]\n"
          ]
        }
      ]
    },
    {
      "cell_type": "code",
      "source": [
        "tensor_4 = tf.random.uniform((3,3), minval=1, maxval=10)\n",
        "print(tensor_4)"
      ],
      "metadata": {
        "colab": {
          "base_uri": "https://localhost:8080/"
        },
        "id": "x8ToGNRQHj13",
        "outputId": "964a3787-fd86-4156-add4-4c9beff770d6"
      },
      "execution_count": 54,
      "outputs": [
        {
          "output_type": "stream",
          "name": "stdout",
          "text": [
            "tf.Tensor(\n",
            "[[9.127079  1.4613249 1.626844 ]\n",
            " [7.2382154 8.147429  2.305298 ]\n",
            " [8.13633   2.3915172 8.02589  ]], shape=(3, 3), dtype=float32)\n"
          ]
        }
      ]
    },
    {
      "cell_type": "markdown",
      "source": [
        "si on utilise le seed il va a redonner les memes numeros a chaque fois sans changements le numero dos entre les parenteses peut etre 2 o 200 ca ne change pas le resultat."
      ],
      "metadata": {
        "id": "HFO0WfuoK806"
      }
    },
    {
      "cell_type": "code",
      "source": [
        "tensor_5 = tf.random.uniform((3,3),seed=2)"
      ],
      "metadata": {
        "id": "sUpVI61FI26u"
      },
      "execution_count": 59,
      "outputs": []
    },
    {
      "cell_type": "code",
      "source": [
        "print(tensor_5)"
      ],
      "metadata": {
        "colab": {
          "base_uri": "https://localhost:8080/"
        },
        "id": "GcX6OU4PJyq_",
        "outputId": "76446f0d-f23d-4b4b-a774-0688c592efe7"
      },
      "execution_count": 67,
      "outputs": [
        {
          "output_type": "stream",
          "name": "stdout",
          "text": [
            "tf.Tensor(\n",
            "[[0.20001888 0.26219416 0.3048637 ]\n",
            " [0.07888281 0.17218232 0.42112756]\n",
            " [0.06079972 0.8920913  0.95070934]], shape=(3, 3), dtype=float32)\n"
          ]
        }
      ]
    },
    {
      "cell_type": "markdown",
      "source": [
        "uniforme nous donnent des numeros dans tout les intervale 0 to 10.\n",
        "si j'ai met random.normal les valeurs vont se raprocher de la moyenne."
      ],
      "metadata": {
        "id": "oMRTLWAzM57O"
      }
    },
    {
      "cell_type": "code",
      "source": [
        "tensor_5 = tf.random.uniform((3,3))\n",
        "print(tensor_5)"
      ],
      "metadata": {
        "colab": {
          "base_uri": "https://localhost:8080/"
        },
        "id": "lD7wQu_PJ4RJ",
        "outputId": "795b1490-c928-4a1e-cab5-a210bd20371a"
      },
      "execution_count": 70,
      "outputs": [
        {
          "output_type": "stream",
          "name": "stdout",
          "text": [
            "tf.Tensor(\n",
            "[[0.7769531  0.80698    0.40254605]\n",
            " [0.15380538 0.92538905 0.3702669 ]\n",
            " [0.54998744 0.65166616 0.5970155 ]], shape=(3, 3), dtype=float32)\n"
          ]
        }
      ]
    },
    {
      "cell_type": "markdown",
      "source": [
        "matrice aleatoire a partir de un distribution normale. la deviacion standar sert dans cette exemple a definir l'écart entre les numéros."
      ],
      "metadata": {
        "id": "nu7OGV_QO5mW"
      }
    },
    {
      "cell_type": "code",
      "source": [
        "tensor_normal = tf.random.normal((3,3), mean=0,stddev=-0.01)"
      ],
      "metadata": {
        "id": "3o2fXVe-N7fF"
      },
      "execution_count": 79,
      "outputs": []
    },
    {
      "cell_type": "code",
      "source": [],
      "metadata": {
        "colab": {
          "base_uri": "https://localhost:8080/",
          "height": 106
        },
        "id": "mCyQ3FY1SgEl",
        "outputId": "be847ebd-3712-44d2-c500-6a4cf36c8fc6"
      },
      "execution_count": 81,
      "outputs": [
        {
          "output_type": "error",
          "ename": "SyntaxError",
          "evalue": "invalid syntax (<ipython-input-81-0a72cb870a75>, line 1)",
          "traceback": [
            "\u001b[0;36m  File \u001b[0;32m\"<ipython-input-81-0a72cb870a75>\"\u001b[0;36m, line \u001b[0;32m1\u001b[0m\n\u001b[0;31m    creer un tensor aleatoire de forme (5,3) avec des valeurs aléatoires uniformes\u001b[0m\n\u001b[0m          ^\u001b[0m\n\u001b[0;31mSyntaxError\u001b[0m\u001b[0;31m:\u001b[0m invalid syntax\n"
          ]
        }
      ]
    },
    {
      "cell_type": "code",
      "source": [
        "print(tensor_normal.numpy)"
      ],
      "metadata": {
        "colab": {
          "base_uri": "https://localhost:8080/"
        },
        "id": "2EVGaMAIOYue",
        "outputId": "571330ab-50b0-41ce-e504-1c5e96d5b599"
      },
      "execution_count": 80,
      "outputs": [
        {
          "output_type": "stream",
          "name": "stdout",
          "text": [
            "<bound method _EagerTensorBase.numpy of <tf.Tensor: shape=(3, 3), dtype=float32, numpy=\n",
            "array([[ 0.00669857,  0.0100002 ,  0.02178284],\n",
            "       [-0.00021404, -0.00889771, -0.00018575],\n",
            "       [-0.00051359, -0.01818542, -0.00785931]], dtype=float32)>>\n"
          ]
        }
      ]
    },
    {
      "cell_type": "markdown",
      "source": [
        "creer un tensor aleatoire de forme (5,3) avec des valeurs aléatoires uniformes\n",
        "creer un tensor aleatoire de forme (8,8) avec des valeurs aléatoires normales et un deviation standard de 20 c'est quoi la signification de deviation standar de 20 (l'écar entres les numeros sera du 20+-"
      ],
      "metadata": {
        "id": "3LEeAbYfS9bX"
      }
    },
    {
      "cell_type": "markdown",
      "source": [
        "fixer le seed pour obtenir des résultats reproductibles\n",
        "generer un matrice de 5 par 3 des nombres pseudo-aléatoires\n",
        "et afficher la matrice"
      ],
      "metadata": {
        "id": "wcAUxd1hqIMb"
      }
    },
    {
      "cell_type": "code",
      "source": [
        "tensor_6 = tf.random.uniform((5,3))\n",
        "print(tensor_6)"
      ],
      "metadata": {
        "colab": {
          "base_uri": "https://localhost:8080/"
        },
        "id": "cJG4eWi_TMP9",
        "outputId": "c9083e88-c778-4840-81aa-d9fb59253f3b"
      },
      "execution_count": 83,
      "outputs": [
        {
          "output_type": "stream",
          "name": "stdout",
          "text": [
            "tf.Tensor(\n",
            "[[0.78153276 0.13843513 0.6529114 ]\n",
            " [0.39121962 0.7739854  0.7160367 ]\n",
            " [0.6502892  0.12822747 0.06041157]\n",
            " [0.93956435 0.30949688 0.6315217 ]\n",
            " [0.44683647 0.02310276 0.79246676]], shape=(5, 3), dtype=float32)\n"
          ]
        }
      ]
    },
    {
      "cell_type": "code",
      "source": [
        "tensor_7 = tf.random.normal((8,8), mean=0,stddev=20)\n",
        "print(tensor_7)"
      ],
      "metadata": {
        "colab": {
          "base_uri": "https://localhost:8080/"
        },
        "id": "aGirJfSsTeM2",
        "outputId": "a07aa131-91cb-469e-a776-ecd8d262464b"
      },
      "execution_count": 84,
      "outputs": [
        {
          "output_type": "stream",
          "name": "stdout",
          "text": [
            "tf.Tensor(\n",
            "[[-13.482616   -37.52448    -42.228058    24.790646    -5.8360014\n",
            "   -2.0520225    0.09939747   9.5508585 ]\n",
            " [ 11.34458     19.70322      2.224924     2.8685093  -21.704676\n",
            "  -13.860823   -15.662207     5.3980355 ]\n",
            " [-44.720074     8.818017   -34.477753    10.462172   -13.692664\n",
            "   16.892365    17.393822    -4.148616  ]\n",
            " [ -3.96588     19.213903   -16.751095   -39.71595     14.001536\n",
            "  -29.613169    21.769915    -5.3740234 ]\n",
            " [ 18.393087   -15.807592   -13.36958      1.3512777   49.319134\n",
            "   33.34689     -9.875917    -2.713351  ]\n",
            " [-19.561596    -8.519082   -36.49174    -23.856586    -9.266206\n",
            "   30.704088     2.2433991   -4.973126  ]\n",
            " [ 12.044069     0.31407964  -6.13361    -19.039904    -9.767159\n",
            "    7.371212   -11.788825     5.7976246 ]\n",
            " [-23.029593    -1.7573977   19.113598    -3.4222589    3.1057155\n",
            "   -1.1966145   -1.8123202   -2.9984114 ]], shape=(8, 8), dtype=float32)\n"
          ]
        }
      ]
    },
    {
      "cell_type": "markdown",
      "source": [
        "afficher la version de tensorflow"
      ],
      "metadata": {
        "id": "6yLUBdPXVt3A"
      }
    },
    {
      "cell_type": "code",
      "source": [
        "print(tf.__version__)"
      ],
      "metadata": {
        "colab": {
          "base_uri": "https://localhost:8080/"
        },
        "id": "T1oEgpJJVe6Y",
        "outputId": "ee4ea2ee-c899-40d9-fd21-62fd75266742"
      },
      "execution_count": 85,
      "outputs": [
        {
          "output_type": "stream",
          "name": "stdout",
          "text": [
            "2.15.0\n"
          ]
        }
      ]
    },
    {
      "cell_type": "code",
      "source": [
        "import numpy as np"
      ],
      "metadata": {
        "id": "U7xI93X1nqj1"
      },
      "execution_count": 86,
      "outputs": []
    },
    {
      "cell_type": "markdown",
      "source": [
        "numpy est seulement 2D pour la creation ou affichage de la instruction.\n",
        "par contre tensorflow peut être 3D et plus."
      ],
      "metadata": {
        "id": "CFi1zEfpo5v3"
      }
    },
    {
      "cell_type": "code",
      "source": [
        "tensor = np.random.rand(5,3)\n",
        "print(tensor)"
      ],
      "metadata": {
        "colab": {
          "base_uri": "https://localhost:8080/"
        },
        "id": "MMTFi0P7n9KM",
        "outputId": "27701393-32a4-427a-e1ae-40eb98323793"
      },
      "execution_count": 87,
      "outputs": [
        {
          "output_type": "stream",
          "name": "stdout",
          "text": [
            "[[0.0842622  0.41326311 0.68584094]\n",
            " [0.83577496 0.90978569 0.48790718]\n",
            " [0.32157947 0.83673915 0.95786594]\n",
            " [0.1525587  0.42684888 0.28897845]\n",
            " [0.69362493 0.15741182 0.35074472]]\n"
          ]
        }
      ]
    },
    {
      "cell_type": "markdown",
      "source": [
        "la demo suivante avec affichage numpy"
      ],
      "metadata": {
        "id": "5ErTzQGJrwSz"
      }
    },
    {
      "cell_type": "code",
      "source": [
        "tensor_7 = tf.random.normal((8,8), mean=0,stddev=20)\n",
        "print(tensor_7.numpy())"
      ],
      "metadata": {
        "colab": {
          "base_uri": "https://localhost:8080/"
        },
        "id": "aEbJPok9rzls",
        "outputId": "b9ec246f-b12f-4d71-f94f-5415a3904644"
      },
      "execution_count": 88,
      "outputs": [
        {
          "output_type": "stream",
          "name": "stdout",
          "text": [
            "[[ 10.06111      6.384692    -2.4877424    9.179088   -10.611158\n",
            "  -17.218193   -25.179369    13.634741  ]\n",
            " [ 36.964687    20.24382     -7.192228     5.320204   -15.875545\n",
            "   28.152678    10.877863   -22.5529    ]\n",
            " [ 27.827337   -33.529797    15.134138    13.356546   -19.865019\n",
            "   43.22406    -24.685614    28.187525  ]\n",
            " [-31.351357    34.755333    -6.4586706  -17.861841    14.407665\n",
            "    1.063653    -1.4248021    9.457888  ]\n",
            " [ 20.198341    26.866581   -18.242655    31.012535    -9.771815\n",
            "    2.1146438    3.7588918  -19.688965  ]\n",
            " [ 27.85273    -37.203094    12.505408     3.7770538  -11.11123\n",
            "   22.392962    17.604965    -7.313822  ]\n",
            " [ 10.09618    -22.607431    42.788826    31.621284   -42.895218\n",
            "   -7.5412917   -3.6353576  -11.666783  ]\n",
            " [ 41.16203     25.84817      3.5179849   -0.48393333 -24.693563\n",
            "  -19.534237     7.7043686   15.010294  ]]\n"
          ]
        }
      ]
    }
  ]
}