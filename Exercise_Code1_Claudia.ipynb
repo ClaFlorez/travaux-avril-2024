{
  "nbformat": 4,
  "nbformat_minor": 0,
  "metadata": {
    "colab": {
      "provenance": [],
      "authorship_tag": "ABX9TyNGY6Cr4avt5wrjyo09dg6x",
      "include_colab_link": true
    },
    "kernelspec": {
      "name": "python3",
      "display_name": "Python 3"
    },
    "language_info": {
      "name": "python"
    }
  },
  "cells": [
    {
      "cell_type": "markdown",
      "metadata": {
        "id": "view-in-github",
        "colab_type": "text"
      },
      "source": [
        "<a href=\"https://colab.research.google.com/github/ClaFlorez/travaux-avril-2024/blob/main/Exercise_Code1_Claudia.ipynb\" target=\"_parent\"><img src=\"https://colab.research.google.com/assets/colab-badge.svg\" alt=\"Open In Colab\"/></a>"
      ]
    },
    {
      "cell_type": "code",
      "execution_count": 1,
      "metadata": {
        "id": "2230kDeMyVV-"
      },
      "outputs": [],
      "source": [
        "'''\n",
        "D'abord on importe toutes les librairies necesaires pour execute le programme\n",
        "pour cet exercise on importe le tensorflow pour ammener toutes ses fontionnalités\n",
        "et pas avoir besoin de écrire tout le chemin pour arriver a l'outil requis\n",
        "'''\n",
        "\n",
        "import tensorflow as tf  # Importation de la bibliothèque TensorFlow pour le calcul tensoriel\n",
        "\n",
        "'''\n",
        "configurer l'environement du systeme va nous aider entre autre à masquer les messages de warning et les messages\n",
        "d'erreurs\n",
        "'''\n",
        "\n",
        "import os\n",
        "\n",
        "'''\n",
        "numpy on l'importe parce qu'on a beacoup de calcule psientifique à faire et on va\n",
        "avoir besoin pour les calcules matriciel entre autes utilisé pour le traitement des données.\n",
        "'''\n",
        "\n",
        "import numpy as np  # Importation de la bibliothèque NumPy pour le calcul numérique\n",
        "\n",
        "# en suite on va configurer  les messages d'erreur de TensorFlow dans le code suivante un niveau moderé sera utilisé\n",
        "os.environ['TF_CPP_MIN_LOG_LEVEL'] = '2'\n"
      ]
    },
    {
      "cell_type": "code",
      "source": [
        "# Définition d'un tenseur constant 'a' avec une valeur de 10\n",
        "a = tf.constant(10)\n",
        "# Affiche la valeur de 'a' à l'écran\n",
        "print(f\"a = {a}\")"
      ],
      "metadata": {
        "colab": {
          "base_uri": "https://localhost:8080/"
        },
        "id": "EYQpw2UE01PI",
        "outputId": "3b1e2279-3b25-4fb5-f02c-47202bf54c72"
      },
      "execution_count": 2,
      "outputs": [
        {
          "output_type": "stream",
          "name": "stdout",
          "text": [
            "a = 10\n"
          ]
        }
      ]
    },
    {
      "cell_type": "code",
      "source": [
        "#on crée une  contante appele B et va lui donner des valeurs fixes dans un tableau de 3 x 3\n",
        "B = tf.constant([[1.,2.,3],[4,5,6],[7,8,9]])\n",
        "print(f\"B = {B}\")"
      ],
      "metadata": {
        "colab": {
          "base_uri": "https://localhost:8080/"
        },
        "id": "V2PcW0tx1Dgw",
        "outputId": "07195870-b085-4a5a-da7d-be7328663ef3"
      },
      "execution_count": 5,
      "outputs": [
        {
          "output_type": "stream",
          "name": "stdout",
          "text": [
            "B = [[1. 2. 3.]\n",
            " [4. 5. 6.]\n",
            " [7. 8. 9.]]\n"
          ]
        }
      ]
    },
    {
      "cell_type": "code",
      "source": [
        "# Affiche le contenu de la matrice 'B'\n",
        "print(f\"B = {B}\")\n",
        "# Affiche la forme (combien de files et colonnes) de la matrice 'B'\n",
        "print(f\"B.shape = {B.shape}\")\n",
        "# Affiche le type de données qui contiene la matrice 'B'\n",
        "print(f\"B.dtype = {B.dtype}\")\n",
        "# Affiche tous les éléments de la matrice 'B'\n",
        "print(f\"B[:,:] = {B[:,:]}\")\n",
        "# Affiche les lignes 2 et 3 de la matrice 'B' on va affichier de la file 1 à la fin\n",
        "print(f\"B[1:,:] = {B[1:,:]}\")"
      ],
      "metadata": {
        "colab": {
          "base_uri": "https://localhost:8080/"
        },
        "id": "3YsLaNua1gIm",
        "outputId": "bfcab3a6-4e3c-4ea4-ef8e-7d5cecbd0669"
      },
      "execution_count": 6,
      "outputs": [
        {
          "output_type": "stream",
          "name": "stdout",
          "text": [
            "B = [[1. 2. 3.]\n",
            " [4. 5. 6.]\n",
            " [7. 8. 9.]]\n",
            "B.shape = (3, 3)\n",
            "B.dtype = <dtype: 'float32'>\n",
            "B[:,:] = [[1. 2. 3.]\n",
            " [4. 5. 6.]\n",
            " [7. 8. 9.]]\n",
            "B[1:,:] = [[4. 5. 6.]\n",
            " [7. 8. 9.]]\n"
          ]
        }
      ]
    },
    {
      "cell_type": "code",
      "source": [
        "# Ajoute 100 à chaque élément de la matrice 'B' et affiche le résultat\n",
        "print(f\"B+100 = {B+100.}\")\n",
        "'''\n",
        "La matrice 'B' reste inchangée parce que le changement a été fait seulement à l'affichage de la matrice\n",
        "et n'a pas été enregistré le changement dans un variable.\n",
        "'''\n",
        "print(f\"B = {B}\")\n",
        "# Ajoute 100 à tous les éléments de la matrice 'B' (autre méthode) et affiche le résultat\n",
        "print(f\"B+100 = {tf.add(B,100.)}\")\n",
        "# La matrice 'B' reste inchangée parce un fois de plus le changements ont été faits à l'affichage\n",
        "print(f\"B = {B}\")"
      ],
      "metadata": {
        "colab": {
          "base_uri": "https://localhost:8080/"
        },
        "id": "Y4N9eaoD2nD7",
        "outputId": "b98d9886-a6d2-4b91-bcc6-576845ffc829"
      },
      "execution_count": 9,
      "outputs": [
        {
          "output_type": "stream",
          "name": "stdout",
          "text": [
            "B+100 = [[101. 102. 103.]\n",
            " [104. 105. 106.]\n",
            " [107. 108. 109.]]\n",
            "B = [[1. 2. 3.]\n",
            " [4. 5. 6.]\n",
            " [7. 8. 9.]]\n",
            "B+100 = [[101. 102. 103.]\n",
            " [104. 105. 106.]\n",
            " [107. 108. 109.]]\n",
            "B = [[1. 2. 3.]\n",
            " [4. 5. 6.]\n",
            " [7. 8. 9.]]\n"
          ]
        }
      ]
    },
    {
      "cell_type": "code",
      "source": [
        "# Création d'un tableau NumPy\n",
        "''' dans un tableau unidimensionnel avec des données du même enregistré dans un variable\n",
        "np_array_1\n",
        "'''\n",
        "np_array_1 = np.array([1., 2., 3., 4., 5., 6., 7., 8., 9., 10.])\n",
        "# Affiche le tableau NumPy\n",
        "print(np_array_1)"
      ],
      "metadata": {
        "colab": {
          "base_uri": "https://localhost:8080/"
        },
        "id": "OFdOnCBH3Yf5",
        "outputId": "48aa397f-2ac5-404d-94d6-55a1666a668f"
      },
      "execution_count": 10,
      "outputs": [
        {
          "output_type": "stream",
          "name": "stdout",
          "text": [
            "[ 1.  2.  3.  4.  5.  6.  7.  8.  9. 10.]\n"
          ]
        }
      ]
    },
    {
      "cell_type": "code",
      "source": [
        "# Conversion du tableau NumPy en tenseur TensorFlow\n",
        "'''\n",
        "les valeurs enregistrés dans np_array_1 on été déclarés comme un constante\n",
        "tensorflow dans la variable tf_tensor\n",
        "'''\n",
        "tf_tensor = tf.constant(np_array_1)\n",
        "# Affiche le tenseur TensorFlow\n",
        "'''\n",
        "quand on imprime la variable tf_tensor imprimé aussi les attributs de la variable\n",
        "la forme - unidimensional - et le type d'elements - float64\n",
        "'''\n",
        "print(tf_tensor)"
      ],
      "metadata": {
        "colab": {
          "base_uri": "https://localhost:8080/"
        },
        "id": "9FdR56ze39wA",
        "outputId": "5fc952d9-ff85-4c97-86ee-aeef9def5548"
      },
      "execution_count": 11,
      "outputs": [
        {
          "output_type": "stream",
          "name": "stdout",
          "text": [
            "tf.Tensor([ 1.  2.  3.  4.  5.  6.  7.  8.  9. 10.], shape=(10,), dtype=float64)\n"
          ]
        }
      ]
    },
    {
      "cell_type": "code",
      "source": [
        "# Conversion du tenseur TensorFlow en tableau NumPy\n",
        "np_array_2 = tf_tensor.numpy()\n",
        "# Affiche le tableau NumPy résultant de la conversion\n",
        "'''\n",
        "une autre facon de faire le changement\n",
        "'''\n",
        "print(np_array_2)"
      ],
      "metadata": {
        "colab": {
          "base_uri": "https://localhost:8080/"
        },
        "id": "YCs0vH2d5HN4",
        "outputId": "68f912d0-5953-4cb1-8090-caf3f5c5f84e"
      },
      "execution_count": 13,
      "outputs": [
        {
          "output_type": "stream",
          "name": "stdout",
          "text": [
            "[ 1.  2.  3.  4.  5.  6.  7.  8.  9. 10.]\n"
          ]
        }
      ]
    }
  ]
}